{
 "cells": [
  {
   "cell_type": "markdown",
   "metadata": {},
   "source": [
    "# \"电表的改装校准\"思考题"
   ]
  },
  {
   "cell_type": "markdown",
   "metadata": {},
   "source": [
    "本实验改装电表的目的是：\n",
    "- A 扩大仪表头的量程\n",
    "- B 改变仪表头的功能"
   ]
  },
  {
   "cell_type": "markdown",
   "metadata": {},
   "source": [
    "仪表头的铁芯上用以平衡电磁力力矩的反向力矩是由什么部件提供的？\n",
    "- A 线圈\n",
    "- B 铁芯\n",
    "- C 游丝"
   ]
  },
  {
   "cell_type": "markdown",
   "metadata": {},
   "source": [
    "校准电表的时候为什么要测量一个来回？\n",
    "- A 为了减小随机误差\n",
    "- B 为了修正系统误差\n",
    "\n"
   ]
  },
  {
   "cell_type": "markdown",
   "metadata": {},
   "source": [
    "一般来说改装电表的等级（    ）仪表头的等级。\n",
    "- A 大于\n",
    "- B 等于\n",
    "- C 小于"
   ]
  },
  {
   "cell_type": "markdown",
   "metadata": {},
   "source": [
    "分流电阻的作用是\n",
    "- A 分流，用于改装电流表\n",
    "- B 分压，用于改装电流表\n",
    "- C 分流，用于改装电压表\n",
    "- B 分压，用于改装电压表"
   ]
  },
  {
   "cell_type": "markdown",
   "metadata": {},
   "source": [
    "扩程电阻的作用是\n",
    "- A 分流，用于改装电流表\n",
    "- B 分压，用于改装电流表\n",
    "- C 分流，用于改装电压表\n",
    "- B 分压，用于改装电压表"
   ]
  },
  {
   "cell_type": "markdown",
   "metadata": {},
   "source": [
    "对于改装电流表，分流电阻越大，仪表头所负担的电流（ ）。\n",
    "- A 越小\n",
    "- B 越大"
   ]
  },
  {
   "cell_type": "markdown",
   "metadata": {},
   "source": [
    "对于改装电压表，扩程电阻越大，仪表头所负担的电压（ ）。\n",
    "- A 越小\n",
    "- B 越大"
   ]
  },
  {
   "cell_type": "markdown",
   "metadata": {},
   "source": [
    "$R_{s,测}$与$R_{p,测}$是怎么来的？\n",
    "- A 为了让改装电表与标准电表的零点相同\n",
    "- B 为了让改装电表与标准电表的满偏相同"
   ]
  },
  {
   "cell_type": "markdown",
   "metadata": {},
   "source": [
    "关于校准曲线，正确的表述是\n",
    "- A 横坐标是标准电表示值，纵坐标是绝对误差\n",
    "- B 横坐标是标准电表示值，纵坐标是相对误差\n",
    "- C 横坐标是改装电表示值，纵坐标是绝对误差\n",
    "- D 横坐标是改装电表示值，纵坐标是相对误差"
   ]
  }
 ],
 "metadata": {
  "kernelspec": {
   "display_name": "Python 3",
   "language": "python",
   "name": "python3"
  },
  "language_info": {
   "codemirror_mode": {
    "name": "ipython",
    "version": 3
   },
   "file_extension": ".py",
   "mimetype": "text/x-python",
   "name": "python",
   "nbconvert_exporter": "python",
   "pygments_lexer": "ipython3",
   "version": "3.7.3"
  }
 },
 "nbformat": 4,
 "nbformat_minor": 2
}
