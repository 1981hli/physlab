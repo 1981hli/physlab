{
 "cells": [
  {
   "cell_type": "markdown",
   "metadata": {},
   "source": [
    "# 实验16 迈克尔逊干涉仪"
   ]
  },
  {
   "cell_type": "markdown",
   "metadata": {},
   "source": [
    "## 实验内容"
   ]
  },
  {
   "cell_type": "markdown",
   "metadata": {},
   "source": [
    "- 掌握迈克尔逊干涉仪的结构和原理\n",
    "- 用迈克尔逊干涉仪测量激光波长\n",
    "- 逐差法处理数据"
   ]
  },
  {
   "cell_type": "markdown",
   "metadata": {},
   "source": [
    "## 实验器材"
   ]
  },
  {
   "cell_type": "markdown",
   "metadata": {},
   "source": [
    "- 迈克尔逊干涉仪\n",
    "- 激光器\n",
    "- 扩束镜"
   ]
  },
  {
   "cell_type": "markdown",
   "metadata": {},
   "source": [
    "## 实验原理"
   ]
  },
  {
   "cell_type": "markdown",
   "metadata": {},
   "source": [
    "### 1. 光路"
   ]
  },
  {
   "cell_type": "markdown",
   "metadata": {},
   "source": [
    "<img src=\"./1.png\" width=\"50%\"/>"
   ]
  },
  {
   "cell_type": "markdown",
   "metadata": {},
   "source": [
    "$S$发出的激光束经由$G_1$分划成两束，分别射向$M_1$、$M_2$，由它们反射之后最终到达屏幕$P$。屏幕$P$上将观察到由$M_1$和$M_2$的虚像$M_2'$产生的干涉图样。"
   ]
  },
  {
   "cell_type": "markdown",
   "metadata": {},
   "source": [
    "### 2. 等倾干涉"
   ]
  },
  {
   "cell_type": "markdown",
   "metadata": {},
   "source": [
    "<img src=\"./2.png\" width=\"80%\"/>"
   ]
  },
  {
   "cell_type": "markdown",
   "metadata": {},
   "source": [
    "- 当光程差等于光波长整数倍，即$\\delta=k\\lambda$时，将得到明条纹。整个等倾干涉图像是明暗相间的同心圆环。\n",
    "- 对于干涉图样中心，$\\theta=0$，光程差为$\\delta=2d$。当光程差为波长整数倍时，即$d=k\\frac{\\lambda}{2}$，将观察到亮斑。\n",
    "- 距离中心无穷远处，干涉级数最低，为$k=0$。中心处干涉级数最高。\n",
    "- 对于某一条明条纹，各个量满足约束条件$2d\\cos\\theta=k\\lambda$。如果$d$增大，为了保持$k\\lambda$不变，$\\theta$将增大，即明条纹将向外扩大。"
   ]
  },
  {
   "cell_type": "markdown",
   "metadata": {},
   "source": [
    "### 3. 测量激光波长"
   ]
  },
  {
   "cell_type": "markdown",
   "metadata": {},
   "source": [
    "移动干涉仪的$M_1$，当$M_1$、$M_2'$的间距改变$\\frac{\\lambda}{2}$时，干涉图样的中心将吐出或吞入一个亮斑。当$M_1$移动$D$时，中央亮斑的吞吐计数为$N$，则激光波长为"
   ]
  },
  {
   "cell_type": "markdown",
   "metadata": {},
   "source": [
    "$$\\lambda=\\frac{2D}{N}$$"
   ]
  },
  {
   "cell_type": "markdown",
   "metadata": {},
   "source": [
    "## 实验操作"
   ]
  },
  {
   "cell_type": "markdown",
   "metadata": {},
   "source": [
    "- 粗略摆放仪器。\n",
    "- 调节大调节手轮，使得$M_1$到$G_1$的距离大致等于$M_2$到分划板$G_1$的距离。\n",
    "- 打开激光器。激光照射干涉仪后，$M_1$和$M_2$各自反射一排光点到毛玻璃屏上。\n",
    "- 光点同时也会反射到激光器的方向。适当调节激光器、$M_1$、$M_2$的朝向，使得反射到激光器的光点投影在激光器的前面板上，尽量靠近激光器的出射孔。\n",
    "- 进一步调节$M_1$、$M_2$，在毛玻璃屏上观察，让它们所反射的两排亮点的中央亮点重合。\n",
    "- 在激光器前放上扩束镜，此时毛玻璃屏上应该能观测到等倾干涉条纹。\n",
    "- 如果干涉图样很小很密集，表示干涉级次过高，可以适当调节$M_1$，改变$M_1$和$M_2'$的间距，让干涉图样变大，以便于观察。\n",
    "- 如果干涉图样偏离屏幕，中央亮斑不在屏幕上，应当进一步调节光源、$M_1$、$M_2$。如果干涉级次不高，有时可以在移开扩束镜时直接在屏幕上看到干涉图样，这样更易于调节，因为可以直接看到干涉条纹的移动。\n",
    "- 确定一个旋转方向，单方向转动小调节轮，直到干涉图样中央亮斑出现“吐出”或“吞入”的现象。将小调节轮调至零刻度。再调节大调节轮至某一个整数刻度。此时即完成干涉仪机械调零。\n",
    "- 此时可以按照数据记录表格开始测量了。测量的方法是，转动小调节轮，对干涉条纹的中央亮斑的“吐出”或“吞入”进行计数，按照数据表格计数到一定量时，读出此时的标尺、大轮、小轮的读数。\n",
    "- 因为干涉仪存在回程差，测量的过程中，只能单向转动小调节轮，不能反向转动。也不能动大调节轮。"
   ]
  },
  {
   "cell_type": "markdown",
   "metadata": {},
   "source": [
    "## 数据处理"
   ]
  },
  {
   "cell_type": "markdown",
   "metadata": {},
   "source": [
    "### 1. 原始数据"
   ]
  },
  {
   "cell_type": "markdown",
   "metadata": {},
   "source": [
    "<table width=\"100%\">\n",
    "<tr><th rowspan=\"2\">干涉图样计数$N$</th><th colspan=\"4\">$M_1$位置</th></tr>\n",
    "<tr><th>标尺读数(格)</th><th>大轮读数(格)</th><th>小轮读数(格)</th><th>示值$L$(mm)</th></tr>\n",
    "<tr><td>0</td><td></td><td></td><td></td><td></td></tr>\n",
    "<tr><td>10</td><td></td><td></td><td></td><td></td></tr>\n",
    "<tr><td>20</td><td></td><td></td><td></td><td></td></tr>\n",
    "<tr><td>30</td><td></td><td></td><td></td><td></td></tr>\n",
    "<tr><td>40</td><td></td><td></td><td></td><td></td></tr>\n",
    "<tr><td>50</td><td></td><td></td><td></td><td></td></tr>\n",
    "<tr><td colspan=\"5\">&nbsp;</td></tr>\n",
    "<tr><td>300</td><td></td><td></td><td></td><td></td></tr>\n",
    "<tr><td>310</td><td></td><td></td><td></td><td></td></tr>\n",
    "<tr><td>320</td><td></td><td></td><td></td><td></td></tr>\n",
    "<tr><td>330</td><td></td><td></td><td></td><td></td></tr>\n",
    "<tr><td>340</td><td></td><td></td><td></td><td></td></tr>\n",
    "<tr><td>350</td><td></td><td></td><td></td><td></td></tr>\n",
    "</table>"
   ]
  },
  {
   "cell_type": "markdown",
   "metadata": {},
   "source": [
    "注意：标尺读数、大轮读数不需要估读，小轮读数需要估读一位。"
   ]
  },
  {
   "cell_type": "markdown",
   "metadata": {},
   "source": [
    "### 2. $D$的处理"
   ]
  },
  {
   "cell_type": "markdown",
   "metadata": {},
   "source": [
    "$D$是直接测量量、采用多次等精度测量。"
   ]
  },
  {
   "cell_type": "markdown",
   "metadata": {},
   "source": [
    "逐差法"
   ]
  },
  {
   "cell_type": "markdown",
   "metadata": {},
   "source": [
    "<table width=\"100%\">\n",
    "<tr><th>编号</th><th>$N$</th><th>$M_1$位置$L_A$</th><th>$N$</th><th>$M_1$位置$L_B$</th><th>$D_i=L_B-L_A$</th></tr>\n",
    "<tr><td>1</td><td>0</td><td></td><td>300</td><td></td><td></td></tr>\n",
    "<tr><td>2</td><td>10</td><td></td><td>310</td><td></td><td></td></tr>\n",
    "<tr><td>3</td><td>20</td><td></td><td>320</td><td></td><td></td></tr>\n",
    "<tr><td>4</td><td>30</td><td></td><td>330</td><td></td><td></td></tr>\n",
    "<tr><td>5</td><td>40</td><td></td><td>340</td><td></td><td></td></tr>\n",
    "<tr><td>6</td><td>50</td><td></td><td>350</td><td></td><td></td></tr>\n",
    "</table>"
   ]
  },
  {
   "cell_type": "markdown",
   "metadata": {},
   "source": [
    "统计误差"
   ]
  },
  {
   "cell_type": "markdown",
   "metadata": {},
   "source": [
    "<table width=\"100%\">\n",
    "<tr><th>编号</th><th>$D_i$</th><th>$\\bar D=\\frac{1}{6}\\sum_{i=1}^6 D_i$</th><th>$\\Delta D_i=D_i-\\bar D$</th><th>$\\sigma_D=\\sqrt{\\sum_{i=1}^6\\frac{(\\Delta D_i)^2}{6\\times(6-1)}}$</th><th>$E_D=\\frac{\\sigma_D}{\\bar D}$</th></tr>\n",
    "<tr><td>1</td><td></td><td rowspan=\"6\"></td><td></td><td rowspan=\"6\"></td><td rowspan=\"6\"></td></tr>\n",
    "<tr><td>2</td><td></td><td></td></tr>\n",
    "<tr><td>3</td><td></td><td></td></tr>\n",
    "<tr><td>4</td><td></td><td></td></tr>\n",
    "<tr><td>5</td><td></td><td></td></tr>\n",
    "<tr><td>6</td><td></td><td></td></tr>\n",
    "</table>"
   ]
  },
  {
   "cell_type": "markdown",
   "metadata": {},
   "source": [
    "$D$的测量结果是"
   ]
  },
  {
   "cell_type": "markdown",
   "metadata": {},
   "source": [
    "$$D=\\bar D\\pm\\sigma_D=\\qquad\\qquad\\qquad,E_D=$$"
   ]
  },
  {
   "cell_type": "markdown",
   "metadata": {},
   "source": [
    "### 3. $\\lambda$的处理"
   ]
  },
  {
   "cell_type": "markdown",
   "metadata": {},
   "source": [
    "$\\lambda$是间接测量量，根据间接测量量的误差合成方法合成。"
   ]
  },
  {
   "cell_type": "markdown",
   "metadata": {},
   "source": [
    "$$\\bar\\lambda=\\frac{2\\bar D}{N}=$$"
   ]
  },
  {
   "cell_type": "markdown",
   "metadata": {},
   "source": [
    "$$E_\\lambda=\\sqrt{\\left(\\frac{\\partial\\ln\\lambda}{\\partial D}\\right)^2\\sigma_D^2+\\left(\\frac{\\partial\\ln\\lambda}{\\partial N}\\right)^2\\sigma_N^2}=$$"
   ]
  },
  {
   "cell_type": "markdown",
   "metadata": {},
   "source": [
    "$$\\sigma_\\lambda=\\bar\\lambda E_\\lambda=$$"
   ]
  },
  {
   "cell_type": "markdown",
   "metadata": {},
   "source": [
    "### 4. 测量结果"
   ]
  },
  {
   "cell_type": "markdown",
   "metadata": {},
   "source": [
    "He-Ne激光波长测量结果表示为"
   ]
  },
  {
   "cell_type": "markdown",
   "metadata": {},
   "source": [
    "\n",
    "$$\\lambda=\\bar\\lambda\\pm\\sigma_\\lambda=\\qquad\\qquad\\qquad,E_\\lambda=$$"
   ]
  }
 ],
 "metadata": {
  "kernelspec": {
   "display_name": "Python 3",
   "language": "python",
   "name": "python3"
  },
  "language_info": {
   "codemirror_mode": {
    "name": "ipython",
    "version": 3
   },
   "file_extension": ".py",
   "mimetype": "text/x-python",
   "name": "python",
   "nbconvert_exporter": "python",
   "pygments_lexer": "ipython3",
   "version": "3.6.5"
  }
 },
 "nbformat": 4,
 "nbformat_minor": 2
}
