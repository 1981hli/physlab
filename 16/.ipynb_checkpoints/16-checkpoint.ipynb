{
 "cells": [
  {
   "cell_type": "markdown",
   "metadata": {},
   "source": [
    "# 实验16 迈克尔逊干涉仪"
   ]
  },
  {
   "cell_type": "markdown",
   "metadata": {},
   "source": [
    "## 理论"
   ]
  },
  {
   "cell_type": "markdown",
   "metadata": {},
   "source": [
    "- 本实验要求掌握迈克尔逊干涉仪的结构和原理；用迈克尔逊干涉仪测量激光波长；逐差法处理数据"
   ]
  },
  {
   "cell_type": "markdown",
   "metadata": {},
   "source": [
    "- 仪器包括迈克尔逊干涉仪主体、激光器、扩束镜"
   ]
  },
  {
   "cell_type": "markdown",
   "metadata": {},
   "source": [
    "- 光路图如下<img src=\"./1.png\" width=\"50%\"/>"
   ]
  },
  {
   "cell_type": "markdown",
   "metadata": {},
   "source": [
    "- $S$发出的激光束经由$G_1$分划成两束，分别射向$M_1$、$M_2$，由它们反射之后最终到达屏幕$P$。屏幕$P$上将观察到由$M_1$和$M_2$的虚像$M_2'$产生的干涉图样。当$M_1$和$M_2$垂直时，出现等倾干涉图样，当$M_1$和$M_2$偏离垂直时，出现等厚干涉图样。"
   ]
  },
  {
   "cell_type": "markdown",
   "metadata": {},
   "source": [
    "- 等倾干涉原理如图<img src=\"./2.png\" width=\"80%\"/>"
   ]
  },
  {
   "cell_type": "markdown",
   "metadata": {},
   "source": [
    "- 整个等倾干涉图像是明暗相间的同心圆环。等倾干涉的光程差为$\\delta=2d\\cos\\theta$。当光程差等于光波长整数倍，即$\\delta=k\\lambda$时，看到的是明条纹。"
   ]
  },
  {
   "cell_type": "markdown",
   "metadata": {},
   "source": [
    "- 距离中心无穷远处，干涉级数最低，为$k=0$。中心处干涉级数最高。"
   ]
  },
  {
   "cell_type": "markdown",
   "metadata": {},
   "source": [
    "- 对于某一条明条纹，各个量满足约束条件$2d\\cos\\theta=k\\lambda$。如果$d$增大，$\\theta$将增大以保持$k\\lambda$不变，即明条纹将向外扩大。"
   ]
  },
  {
   "cell_type": "markdown",
   "metadata": {},
   "source": [
    "- 对于干涉图样中心，$\\theta=0$，光程差为$\\delta=2d$。移动干涉仪的$M_1$，当$M_1$、$M_2'$的间距改变$\\frac{\\lambda}{2}$时，干涉图样的中心将吐出或吞入一个亮斑。当$M_1$移动$D$时，中央亮斑的吞吐计数为$N$，则激光波长为\n",
    "$$\\lambda=\\frac{2D}{N}$$"
   ]
  },
  {
   "cell_type": "markdown",
   "metadata": {},
   "source": [
    "## 操作"
   ]
  },
  {
   "cell_type": "markdown",
   "metadata": {},
   "source": [
    "- 粗略摆放仪器。"
   ]
  },
  {
   "cell_type": "markdown",
   "metadata": {},
   "source": [
    "- 调节大调节手轮，使得$M_1$到$G_1$的距离大致等于$M_2$到分划板$G_1$的距离。"
   ]
  },
  {
   "cell_type": "markdown",
   "metadata": {},
   "source": [
    "- 打开激光器。激光照射干涉仪后，$M_1$和$M_2$各自反射一排光点到毛玻璃屏上。"
   ]
  },
  {
   "cell_type": "markdown",
   "metadata": {},
   "source": [
    "- 光点同时也会反射到激光器的方向。适当调节激光器、$M_1$、$M_2$的朝向，使得反射到激光器的光点投影在激光器的前面板上，尽量靠近激光器的出射孔。"
   ]
  },
  {
   "cell_type": "markdown",
   "metadata": {},
   "source": [
    "- 进一步调节$M_1$、$M_2$，在毛玻璃屏上观察，让它们所反射的两排亮点的中央亮点重合。"
   ]
  },
  {
   "cell_type": "markdown",
   "metadata": {},
   "source": [
    "- 在激光器前放上扩束镜，此时毛玻璃屏上应该能观测到等倾干涉条纹。"
   ]
  },
  {
   "cell_type": "markdown",
   "metadata": {},
   "source": [
    "- 如果干涉图样很小很密集，表示干涉级次过高，可以适当调节$M_1$，改变$M_1$和$M_2'$的间距，让干涉图样变大，以便于观察。"
   ]
  },
  {
   "cell_type": "markdown",
   "metadata": {},
   "source": [
    "- 如果干涉图样偏离屏幕，中央亮斑不在屏幕上，应当进一步调节光源、$M_1$、$M_2$。如果干涉级次不高，有时可以在移开扩束镜时直接在屏幕上看到干涉图样，这样可以直接看到干涉条纹的移动更易于调节。"
   ]
  },
  {
   "cell_type": "markdown",
   "metadata": {},
   "source": [
    "- 调节粗调轮和微调轮，观察干涉图样的变化。正反向旋转粗调轮和微调轮，体会仪器的回程差。"
   ]
  },
  {
   "cell_type": "markdown",
   "metadata": {},
   "source": [
    "- 选定粗调轮和微调轮的调节方向，将它们机械调零。即将微调轮调至零刻度，再将粗调轮调至某一个整数刻度。标尺可以不用调零，因为整个测量过程中标尺读数变化不到一格。"
   ]
  },
  {
   "cell_type": "markdown",
   "metadata": {},
   "source": [
    "- 开始测量，转动小调节轮，对干涉条纹的中央亮斑的“吐出”或“吞入”进行计数，按照数据表格计数到一定量时，读出此时的标尺、大轮、小轮的读数，从而得到$M_1$在干涉仪上的位置$L$。"
   ]
  },
  {
   "cell_type": "markdown",
   "metadata": {},
   "source": [
    "- 注意因为干涉仪存在回程差，测量的过程中，只能单向转动小调节轮，不能反向转动。也不能动大调节轮。"
   ]
  },
  {
   "cell_type": "markdown",
   "metadata": {},
   "source": [
    "## 数据"
   ]
  },
  {
   "cell_type": "markdown",
   "metadata": {},
   "source": [
    "#### 数据记录"
   ]
  },
  {
   "cell_type": "markdown",
   "metadata": {},
   "source": [
    "<table width=\"100%\">\n",
    "<tr><th rowspan=\"2\" colspan=\"2\">干涉图样计数$N$</th><th colspan=\"5\">$M_1$位置</th></tr>\n",
    "<tr><th>标尺读数(格)</th><th>大轮读数(格)</th><th>小轮读数(格)</th><th>示值$L$(mm)</th></tr>\n",
    "<tr><td rowspan=\"6\">A组</td><td>0</td><td></td><td></td><td></td><td></td></tr>\n",
    "<tr><td>10</td><td></td><td></td><td></td><td></td></tr>\n",
    "<tr><td>20</td><td></td><td></td><td></td><td></td></tr>\n",
    "<tr><td>30</td><td></td><td></td><td></td><td></td></tr>\n",
    "<tr><td>40</td><td></td><td></td><td></td><td></td></tr>\n",
    "<tr><td>50</td><td></td><td></td><td></td><td></td></tr>\n",
    "<tr><td rowspan=\"6\">B组</td><td>300</td><td></td><td></td><td></td><td></td></tr>\n",
    "<tr><td>310</td><td></td><td></td><td></td><td></td></tr>\n",
    "<tr><td>320</td><td></td><td></td><td></td><td></td></tr>\n",
    "<tr><td>330</td><td></td><td></td><td></td><td></td></tr>\n",
    "<tr><td>340</td><td></td><td></td><td></td><td></td></tr>\n",
    "<tr><td>350</td><td></td><td></td><td></td><td></td></tr>\n",
    "</table>"
   ]
  },
  {
   "cell_type": "markdown",
   "metadata": {},
   "source": [
    "注意：标尺读数、大轮读数不需要估读，小轮读数需要估读一位。"
   ]
  },
  {
   "cell_type": "markdown",
   "metadata": {},
   "source": [
    "#### 直接测量量$D$的处理"
   ]
  },
  {
   "cell_type": "markdown",
   "metadata": {},
   "source": [
    "逐差法"
   ]
  },
  {
   "cell_type": "markdown",
   "metadata": {},
   "source": [
    "<table width=\"100%\">\n",
    "<tr><th>编号</th><th>$N$</th><th>$M_1$位置$L_A$</th><th>$N$</th><th>$M_1$位置$L_B$</th><th>$D_i=L_B-L_A$</th></tr>\n",
    "<tr><td>1</td><td>0</td><td></td><td>300</td><td></td><td></td></tr>\n",
    "<tr><td>2</td><td>10</td><td></td><td>310</td><td></td><td></td></tr>\n",
    "<tr><td>3</td><td>20</td><td></td><td>320</td><td></td><td></td></tr>\n",
    "<tr><td>4</td><td>30</td><td></td><td>330</td><td></td><td></td></tr>\n",
    "<tr><td>5</td><td>40</td><td></td><td>340</td><td></td><td></td></tr>\n",
    "<tr><td>6</td><td>50</td><td></td><td>350</td><td></td><td></td></tr>\n",
    "</table>"
   ]
  },
  {
   "cell_type": "markdown",
   "metadata": {},
   "source": [
    "统计误差"
   ]
  },
  {
   "cell_type": "markdown",
   "metadata": {},
   "source": [
    "<table width=\"100%\">\n",
    "<tr><th>编号</th><th>$D_i$</th><th>$\\bar D=\\frac{1}{6}\\sum_{i=1}^6 D_i$</th><th>$\\Delta D_i=D_i-\\bar D$</th><th>$\\sigma_D=\\sqrt{\\sum_{i=1}^6\\frac{(\\Delta D_i)^2}{6\\times(6-1)}}$</th><th>$E_D=\\frac{\\sigma_D}{\\bar D}$</th></tr>\n",
    "<tr><td>1</td><td></td><td rowspan=\"6\"></td><td></td><td rowspan=\"6\"></td><td rowspan=\"6\"></td></tr>\n",
    "<tr><td>2</td><td></td><td></td></tr>\n",
    "<tr><td>3</td><td></td><td></td></tr>\n",
    "<tr><td>4</td><td></td><td></td></tr>\n",
    "<tr><td>5</td><td></td><td></td></tr>\n",
    "<tr><td>6</td><td></td><td></td></tr>\n",
    "</table>"
   ]
  },
  {
   "cell_type": "markdown",
   "metadata": {},
   "source": [
    "$D$的测量结果是"
   ]
  },
  {
   "cell_type": "markdown",
   "metadata": {},
   "source": [
    "$$D=\\bar D\\pm\\sigma_D=\\qquad\\qquad\\qquad\\qquad,E_D=$$"
   ]
  },
  {
   "cell_type": "markdown",
   "metadata": {},
   "source": [
    "#### 间接测量量$\\lambda$的处理"
   ]
  },
  {
   "cell_type": "markdown",
   "metadata": {},
   "source": [
    "间接测量量由直接测量量根据误差合成公式计算得到。由逐差法知道$N=300$，且忽略$N$的误差。"
   ]
  },
  {
   "cell_type": "markdown",
   "metadata": {},
   "source": [
    "$$\\bar\\lambda=\\frac{2\\bar D}{N}=$$"
   ]
  },
  {
   "cell_type": "markdown",
   "metadata": {},
   "source": [
    "$$E_\\lambda=\\sqrt{\\left(\\frac{\\partial\\ln\\lambda}{\\partial D}\\right)^2\\sigma_D^2}=$$"
   ]
  },
  {
   "cell_type": "markdown",
   "metadata": {},
   "source": [
    "$$\\sigma_\\lambda=\\bar\\lambda E_\\lambda=$$"
   ]
  },
  {
   "cell_type": "markdown",
   "metadata": {},
   "source": [
    "至此可得He-Ne激光波长测量结果为"
   ]
  },
  {
   "cell_type": "markdown",
   "metadata": {},
   "source": [
    "$$\\lambda=\\bar\\lambda\\pm\\sigma_\\lambda=\\qquad\\qquad\\qquad\\qquad,E_\\lambda=$$"
   ]
  },
  {
   "cell_type": "markdown",
   "metadata": {},
   "source": [
    "## 数据处理程序"
   ]
  },
  {
   "cell_type": "code",
   "execution_count": 107,
   "metadata": {
    "scrolled": true
   },
   "outputs": [
    {
     "name": "stdout",
     "output_type": "stream",
     "text": [
      "D= [0.09705 0.09715 0.09763 0.09847 0.08913 0.09945]\n",
      "Expectation of D= 0.09648000000000086\n",
      "Absolute Error of D= 0.0015154735233577374\n",
      "Relative Error of D= 0.015707644313409246\n"
     ]
    }
   ],
   "source": [
    "import numpy as np\n",
    "L= np.array([46.52842,46.53217,46.53533,46.53829,46.54136,46.54461,46.62547,46.62932,46.63296,46.63676,46.63049,46.64406])\n",
    "D= L[6:12]-L[0:6]\n",
    "print('D=',D)\n",
    "print('Expectation of D=',D.mean())\n",
    "bar_D= np.sqrt(np.sum((D-D.mean())**2/(D.size*(D.size-1))))\n",
    "print('Absolute Error of D=',bar_D)\n",
    "sigma_D= bar_D/D.mean()\n",
    "print('Relative Error of D=',sigma_D)"
   ]
  },
  {
   "cell_type": "code",
   "execution_count": null,
   "metadata": {},
   "outputs": [],
   "source": []
  }
 ],
 "metadata": {
  "kernelspec": {
   "display_name": "Python 3",
   "language": "python",
   "name": "python3"
  },
  "language_info": {
   "codemirror_mode": {
    "name": "ipython",
    "version": 3
   },
   "file_extension": ".py",
   "mimetype": "text/x-python",
   "name": "python",
   "nbconvert_exporter": "python",
   "pygments_lexer": "ipython3",
   "version": "3.6.5"
  }
 },
 "nbformat": 4,
 "nbformat_minor": 2
}
